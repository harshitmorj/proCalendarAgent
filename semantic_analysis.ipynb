{
 "cells": [
  {
   "cell_type": "code",
   "execution_count": 1,
   "id": "ce58b6f6",
   "metadata": {},
   "outputs": [],
   "source": [
    "# 📦 Setup & Imports\n",
    "import os\n",
    "import json\n",
    "import numpy as np\n",
    "import pandas as pd\n",
    "import matplotlib.pyplot as plt\n",
    "import seaborn as sns\n",
    "from sklearn.metrics.pairwise import cosine_similarity\n",
    "from umap.umap_ import UMAP\n",
    "import hdbscan\n",
    "from dotenv import load_dotenv\n",
    "from tqdm import tqdm\n",
    "import chromadb\n",
    "from chromadb.config import Settings\n",
    "import openai\n",
    "\n",
    "# 🔑 Load API keys\n",
    "load_dotenv()\n",
    "openai.api_key = os.getenv(\"OPENAI_API_KEY\")\n",
    "\n",
    "# 📁 Constants\n",
    "USER_ID = \"2\"\n",
    "OUTPUT_DIR = f\"user_knowledge/user_{USER_ID}\"\n"
   ]
  },
  {
   "cell_type": "code",
   "execution_count": 2,
   "id": "e47bab33",
   "metadata": {},
   "outputs": [
    {
     "name": "stdout",
     "output_type": "stream",
     "text": [
      "✅ Loaded 0 documents from ChromaDB\n"
     ]
    }
   ],
   "source": [
    "\n",
    "# 🧠 Connect to ChromaDB\n",
    "chroma_client = chromadb.Client(Settings(persist_directory=OUTPUT_DIR))\n",
    "collection = chroma_client.get_or_create_collection(name=\"calendar_events\")\n",
    "\n",
    "# 📥 Load all documents from Chroma\n",
    "retrieved = collection.get(include=[\"embeddings\", \"documents\", \"metadatas\"])\n",
    "print(f\"✅ Loaded {len(retrieved['documents'])} documents from ChromaDB\")\n",
    "\n",
    "docs = retrieved[\"documents\"]\n",
    "embeddings = np.array(retrieved[\"embeddings\"])\n",
    "metadatas = retrieved[\"metadatas\"]\n",
    "df = pd.DataFrame(metadatas)\n"
   ]
  },
  {
   "cell_type": "code",
   "execution_count": null,
   "id": "7cf603fe",
   "metadata": {},
   "outputs": [],
   "source": [
    "\n",
    "# 🌈 UMAP Dimensionality Reduction\n",
    "umap_model = UMAP(n_components=2, random_state=42)\n",
    "umap_embeds = umap_model.fit_transform(embeddings)\n",
    "\n",
    "# 🔍 HDBSCAN Clustering\n",
    "clusterer = hdbscan.HDBSCAN(min_cluster_size=5)\n",
    "labels = clusterer.fit_predict(umap_embeds)\n",
    "df[\"cluster\"] = labels\n",
    "\n",
    "# 📊 Cluster Visualization\n",
    "plt.figure(figsize=(10, 7))\n",
    "palette = sns.color_palette(\"hsv\", len(set(labels)))\n",
    "sns.scatterplot(x=umap_embeds[:, 0], y=umap_embeds[:, 1],\n",
    "                hue=labels, palette=palette, legend=\"full\")\n",
    "plt.title(\"Calendar Event Clusters (UMAP + HDBSCAN)\")\n",
    "plt.xlabel(\"UMAP-1\")\n",
    "plt.ylabel(\"UMAP-2\")\n",
    "plt.show()\n"
   ]
  },
  {
   "cell_type": "code",
   "execution_count": null,
   "id": "b0afd28b",
   "metadata": {},
   "outputs": [],
   "source": [
    "\n",
    "# 🔎 Semantic Search\n",
    "def get_query_embedding(text):\n",
    "    response = openai.embeddings.create(\n",
    "        input=[text],\n",
    "        model=\"text-embedding-ada-002\"\n",
    "    )\n",
    "    return np.array(response.data[0].embedding)\n",
    "\n",
    "def semantic_search(query, top_k=5):\n",
    "    query_vector = get_query_embedding(query)\n",
    "    sims = cosine_similarity([query_vector], embeddings)[0]\n",
    "    top_idxs = np.argsort(sims)[-top_k:][::-1]\n",
    "\n",
    "    return [{\n",
    "        \"score\": float(sims[i]),\n",
    "        \"text\": docs[i],\n",
    "        \"cluster\": df.iloc[i][\"cluster\"],\n",
    "        \"meta\": df.iloc[i].to_dict()\n",
    "    } for i in top_idxs]\n"
   ]
  },
  {
   "cell_type": "code",
   "execution_count": null,
   "id": "e1dd4a94",
   "metadata": {},
   "outputs": [],
   "source": [
    "\n",
    "# 🧪 Try searching\n",
    "query = \"team meeting about project delivery\"\n",
    "results = semantic_search(query)\n",
    "\n",
    "for res in results:\n",
    "    print(f\"\\n📌 [Cluster {res['cluster']}] Score: {res['score']:.2f}\")\n",
    "    print(f\"📝 {res['text']}\")\n"
   ]
  },
  {
   "cell_type": "code",
   "execution_count": null,
   "id": "99ee55d7",
   "metadata": {},
   "outputs": [
    {
     "name": "stdout",
     "output_type": "stream",
     "text": [
      "✅ Loaded 365 documents and 0 embeddings\n"
     ]
    }
   ],
   "source": []
  },
  {
   "cell_type": "code",
   "execution_count": null,
   "id": "c9e86cf1",
   "metadata": {},
   "outputs": [],
   "source": []
  },
  {
   "cell_type": "code",
   "execution_count": null,
   "id": "f971824c",
   "metadata": {},
   "outputs": [],
   "source": []
  },
  {
   "cell_type": "code",
   "execution_count": null,
   "id": "e469c966",
   "metadata": {},
   "outputs": [],
   "source": []
  },
  {
   "cell_type": "code",
   "execution_count": null,
   "id": "a51f11c5",
   "metadata": {},
   "outputs": [],
   "source": []
  }
 ],
 "metadata": {
  "kernelspec": {
   "display_name": "base",
   "language": "python",
   "name": "python3"
  },
  "language_info": {
   "codemirror_mode": {
    "name": "ipython",
    "version": 3
   },
   "file_extension": ".py",
   "mimetype": "text/x-python",
   "name": "python",
   "nbconvert_exporter": "python",
   "pygments_lexer": "ipython3",
   "version": "3.13.5"
  }
 },
 "nbformat": 4,
 "nbformat_minor": 5
}
